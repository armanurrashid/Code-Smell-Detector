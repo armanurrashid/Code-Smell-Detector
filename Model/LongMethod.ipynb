{
 "cells": [
  {
   "cell_type": "code",
   "execution_count": 1,
   "metadata": {},
   "outputs": [],
   "source": [
    "import numpy as np\n",
    "import pandas as pd\n",
    "import pickle"
   ]
  },
  {
   "cell_type": "code",
   "execution_count": 2,
   "metadata": {},
   "outputs": [
    {
     "name": "stdout",
     "output_type": "stream",
     "text": [
      "Looking in indexes: https://pypi.org/simple, https://pypi.ngc.nvidia.com\n",
      "Requirement already satisfied: javalang in c:\\users\\user\\desktop\\streamlit\\env\\lib\\site-packages (0.13.0)\n",
      "Requirement already satisfied: six in c:\\users\\user\\desktop\\streamlit\\env\\lib\\site-packages (from javalang) (1.16.0)\n"
     ]
    },
    {
     "name": "stderr",
     "output_type": "stream",
     "text": [
      "\n",
      "[notice] A new release of pip is available: 23.1.2 -> 24.2\n",
      "[notice] To update, run: python.exe -m pip install --upgrade pip\n"
     ]
    }
   ],
   "source": [
    "!pip install javalang\n",
    "import javalang"
   ]
  },
  {
   "cell_type": "code",
   "execution_count": 3,
   "metadata": {},
   "outputs": [],
   "source": [
    "df = pd.read_csv('../Dataset/LongMethod.csv')"
   ]
  },
  {
   "cell_type": "code",
   "execution_count": 4,
   "metadata": {},
   "outputs": [
    {
     "data": {
      "text/html": [
       "<div>\n",
       "<style scoped>\n",
       "    .dataframe tbody tr th:only-of-type {\n",
       "        vertical-align: middle;\n",
       "    }\n",
       "\n",
       "    .dataframe tbody tr th {\n",
       "        vertical-align: top;\n",
       "    }\n",
       "\n",
       "    .dataframe thead th {\n",
       "        text-align: right;\n",
       "    }\n",
       "</style>\n",
       "<table border=\"1\" class=\"dataframe\">\n",
       "  <thead>\n",
       "    <tr style=\"text-align: right;\">\n",
       "      <th></th>\n",
       "      <th>Code</th>\n",
       "      <th>Smell</th>\n",
       "    </tr>\n",
       "  </thead>\n",
       "  <tbody>\n",
       "    <tr>\n",
       "      <th>0</th>\n",
       "      <td>public void CodeCheck(){\\n        if (n == JOp...</td>\n",
       "      <td>1</td>\n",
       "    </tr>\n",
       "    <tr>\n",
       "      <th>1</th>\n",
       "      <td>public void CodeCheck(){\\n    if (n == JOption...</td>\n",
       "      <td>0</td>\n",
       "    </tr>\n",
       "    <tr>\n",
       "      <th>2</th>\n",
       "      <td>public void CodeCheck(){\\n    if (n == JOption...</td>\n",
       "      <td>0</td>\n",
       "    </tr>\n",
       "    <tr>\n",
       "      <th>3</th>\n",
       "      <td>public void LoanCalculator(){\\r\\n        if (d...</td>\n",
       "      <td>1</td>\n",
       "    </tr>\n",
       "    <tr>\n",
       "      <th>4</th>\n",
       "      <td>public void analyzeData() {\\r\\n    int x = 10,...</td>\n",
       "      <td>0</td>\n",
       "    </tr>\n",
       "  </tbody>\n",
       "</table>\n",
       "</div>"
      ],
      "text/plain": [
       "                                                Code  Smell\n",
       "0  public void CodeCheck(){\\n        if (n == JOp...      1\n",
       "1  public void CodeCheck(){\\n    if (n == JOption...      0\n",
       "2  public void CodeCheck(){\\n    if (n == JOption...      0\n",
       "3  public void LoanCalculator(){\\r\\n        if (d...      1\n",
       "4  public void analyzeData() {\\r\\n    int x = 10,...      0"
      ]
     },
     "execution_count": 4,
     "metadata": {},
     "output_type": "execute_result"
    }
   ],
   "source": [
    "df.head()"
   ]
  },
  {
   "cell_type": "code",
   "execution_count": 5,
   "metadata": {},
   "outputs": [
    {
     "data": {
      "text/plain": [
       "Smell\n",
       "0    29\n",
       "1    21\n",
       "Name: count, dtype: int64"
      ]
     },
     "execution_count": 5,
     "metadata": {},
     "output_type": "execute_result"
    }
   ],
   "source": [
    "from sklearn.preprocessing import LabelEncoder\n",
    "encoder = LabelEncoder()\n",
    "df['Smell'] = encoder.fit_transform(df['Smell'])\n",
    "df['Smell'].value_counts()"
   ]
  },
  {
   "cell_type": "code",
   "execution_count": 6,
   "metadata": {},
   "outputs": [],
   "source": [
    "def wrap_method_in_class(method_code):\n",
    "    class_code = f\"\"\"\n",
    "    public class Temp {{\n",
    "        {method_code}\n",
    "    }}\n",
    "    \"\"\"\n",
    "    return class_code"
   ]
  },
  {
   "cell_type": "code",
   "execution_count": 7,
   "metadata": {},
   "outputs": [],
   "source": [
    "def calculate_cyclomatic_complexity(method_code):\n",
    "\n",
    "    try:\n",
    "        wrapped_code = wrap_method_in_class(method_code)\n",
    "        tree = javalang.parse.parse(wrapped_code)\n",
    "        complexity = 1\n",
    "\n",
    "        for path, node in tree:\n",
    "            if isinstance(node, (javalang.tree.IfStatement,\n",
    "                                 javalang.tree.ForStatement,\n",
    "                                 javalang.tree.WhileStatement,\n",
    "                                 javalang.tree.DoStatement,\n",
    "                                 javalang.tree.SwitchStatement,\n",
    "                                 javalang.tree.CatchClause)):\n",
    "                complexity += 1\n",
    "\n",
    "        return complexity\n",
    "\n",
    "    except (javalang.parser.JavaSyntaxError, javalang.tokenizer.LexerError) as e:\n",
    "        print(f\"Error parsing method: {e}\")\n",
    "        return None"
   ]
  },
  {
   "cell_type": "code",
   "execution_count": 8,
   "metadata": {},
   "outputs": [],
   "source": [
    "df['Cyclomatic_Complexity'] = df['Code'].apply(calculate_cyclomatic_complexity)"
   ]
  },
  {
   "cell_type": "code",
   "execution_count": 9,
   "metadata": {},
   "outputs": [
    {
     "name": "stdout",
     "output_type": "stream",
     "text": [
      "0     17\n",
      "1     10\n",
      "2      9\n",
      "3     46\n",
      "4      8\n",
      "5     10\n",
      "6      1\n",
      "7      4\n",
      "8     20\n",
      "9     14\n",
      "10     1\n",
      "11    13\n",
      "12    18\n",
      "13    13\n",
      "14    39\n",
      "15     4\n",
      "16    16\n",
      "17     4\n",
      "18     2\n",
      "19     3\n",
      "20     1\n",
      "21    17\n",
      "22     3\n",
      "23    18\n",
      "24     2\n",
      "25     3\n",
      "26     4\n",
      "27     3\n",
      "28     7\n",
      "29    11\n",
      "30     1\n",
      "31    21\n",
      "32     1\n",
      "33    12\n",
      "34    15\n",
      "35    19\n",
      "36    15\n",
      "37     1\n",
      "38    17\n",
      "39    23\n",
      "40    16\n",
      "41    17\n",
      "42    15\n",
      "43    16\n",
      "44    18\n",
      "45    16\n",
      "46    17\n",
      "47    22\n",
      "48    16\n",
      "49    16\n",
      "Name: Cyclomatic_Complexity, dtype: int64\n"
     ]
    }
   ],
   "source": [
    "print(df[\"Cyclomatic_Complexity\"])"
   ]
  },
  {
   "cell_type": "code",
   "execution_count": 10,
   "metadata": {},
   "outputs": [
    {
     "data": {
      "text/html": [
       "<div>\n",
       "<style scoped>\n",
       "    .dataframe tbody tr th:only-of-type {\n",
       "        vertical-align: middle;\n",
       "    }\n",
       "\n",
       "    .dataframe tbody tr th {\n",
       "        vertical-align: top;\n",
       "    }\n",
       "\n",
       "    .dataframe thead th {\n",
       "        text-align: right;\n",
       "    }\n",
       "</style>\n",
       "<table border=\"1\" class=\"dataframe\">\n",
       "  <thead>\n",
       "    <tr style=\"text-align: right;\">\n",
       "      <th></th>\n",
       "      <th>Code</th>\n",
       "      <th>Smell</th>\n",
       "      <th>Cyclomatic_Complexity</th>\n",
       "    </tr>\n",
       "  </thead>\n",
       "  <tbody>\n",
       "    <tr>\n",
       "      <th>0</th>\n",
       "      <td>public void CodeCheck(){\\n        if (n == JOp...</td>\n",
       "      <td>1</td>\n",
       "      <td>17</td>\n",
       "    </tr>\n",
       "    <tr>\n",
       "      <th>1</th>\n",
       "      <td>public void CodeCheck(){\\n    if (n == JOption...</td>\n",
       "      <td>0</td>\n",
       "      <td>10</td>\n",
       "    </tr>\n",
       "    <tr>\n",
       "      <th>2</th>\n",
       "      <td>public void CodeCheck(){\\n    if (n == JOption...</td>\n",
       "      <td>0</td>\n",
       "      <td>9</td>\n",
       "    </tr>\n",
       "    <tr>\n",
       "      <th>3</th>\n",
       "      <td>public void LoanCalculator(){\\r\\n        if (d...</td>\n",
       "      <td>1</td>\n",
       "      <td>46</td>\n",
       "    </tr>\n",
       "    <tr>\n",
       "      <th>4</th>\n",
       "      <td>public void analyzeData() {\\r\\n    int x = 10,...</td>\n",
       "      <td>0</td>\n",
       "      <td>8</td>\n",
       "    </tr>\n",
       "  </tbody>\n",
       "</table>\n",
       "</div>"
      ],
      "text/plain": [
       "                                                Code  Smell  \\\n",
       "0  public void CodeCheck(){\\n        if (n == JOp...      1   \n",
       "1  public void CodeCheck(){\\n    if (n == JOption...      0   \n",
       "2  public void CodeCheck(){\\n    if (n == JOption...      0   \n",
       "3  public void LoanCalculator(){\\r\\n        if (d...      1   \n",
       "4  public void analyzeData() {\\r\\n    int x = 10,...      0   \n",
       "\n",
       "   Cyclomatic_Complexity  \n",
       "0                     17  \n",
       "1                     10  \n",
       "2                      9  \n",
       "3                     46  \n",
       "4                      8  "
      ]
     },
     "execution_count": 10,
     "metadata": {},
     "output_type": "execute_result"
    }
   ],
   "source": [
    "df.head(5)"
   ]
  },
  {
   "cell_type": "code",
   "execution_count": 11,
   "metadata": {},
   "outputs": [],
   "source": [
    "X = df['Cyclomatic_Complexity'].values.reshape(-1, 1)"
   ]
  },
  {
   "cell_type": "code",
   "execution_count": 12,
   "metadata": {},
   "outputs": [],
   "source": [
    "y = df['Smell'].values"
   ]
  },
  {
   "cell_type": "code",
   "execution_count": 13,
   "metadata": {},
   "outputs": [],
   "source": [
    "from sklearn.model_selection import train_test_split"
   ]
  },
  {
   "cell_type": "code",
   "execution_count": 14,
   "metadata": {},
   "outputs": [],
   "source": [
    "X_train,X_test,y_train,y_test = train_test_split(X,y,test_size=0.2,random_state=2)"
   ]
  },
  {
   "cell_type": "code",
   "execution_count": 15,
   "metadata": {},
   "outputs": [],
   "source": [
    "from sklearn.neighbors import KNeighborsClassifier\n",
    "from sklearn.metrics import accuracy_score,confusion_matrix,precision_score\n",
    "knc = KNeighborsClassifier()"
   ]
  },
  {
   "cell_type": "code",
   "execution_count": 16,
   "metadata": {},
   "outputs": [
    {
     "name": "stdout",
     "output_type": "stream",
     "text": [
      "[1 1 0 0 0 1 1 1 1 1]\n",
      "0.9\n",
      "[[3 1]\n",
      " [0 6]]\n",
      "0.8571428571428571\n"
     ]
    }
   ],
   "source": [
    "knc.fit(X_train,y_train)\n",
    "y_pred = knc.predict(X_test)\n",
    "print(y_pred)\n",
    "print(accuracy_score(y_test,y_pred))\n",
    "print(confusion_matrix(y_test,y_pred))\n",
    "print(precision_score(y_test,y_pred))"
   ]
  },
  {
   "cell_type": "code",
   "execution_count": 19,
   "metadata": {},
   "outputs": [
    {
     "name": "stdout",
     "output_type": "stream",
     "text": [
      "Cyclomatic Complexity: 16\n",
      "Predicted Smell: 1\n"
     ]
    }
   ],
   "source": [
    "def test_model_with_code(java_code, model):\n",
    "    \n",
    "    complexity = calculate_cyclomatic_complexity(java_code)\n",
    "    complexity = np.array(complexity).reshape(1, -1)\n",
    "    prediction = model.predict(complexity)\n",
    "    predicted_smell = encoder.inverse_transform(prediction)[0]\n",
    "\n",
    "    print(f\"Cyclomatic Complexity: {complexity[0][0]}\")\n",
    "    print(f\"Predicted Smell: {predicted_smell}\")\n",
    "\n",
    "java_code = \"\"\"\n",
    "public void complexMethod(int a, int b, int c, int d) {\n",
    "        if (a > 0) {\n",
    "            if (b > 0) {\n",
    "                if (c > 0) {\n",
    "                    System.out.println(\"Case 1\");\n",
    "                } else {\n",
    "                    System.out.println(\"Case 2\");\n",
    "                }\n",
    "            } else if (b < 0) {\n",
    "                if (c == 0) {\n",
    "                    System.out.println(\"Case 3\");\n",
    "                } else if (c < 0){\n",
    "                    System.out.println(\"C value is negative\");\n",
    "                } else if (c =5 ){\n",
    "                    System.out.println(\"C value is 5\");\n",
    "                } else {\n",
    "                    System.out.println(\"Case 4\");\n",
    "                }\n",
    "            } else {\n",
    "                System.out.println(\"Case 5\");\n",
    "            }\n",
    "        } else if (a < 0) {\n",
    "            if (d > 10) {\n",
    "                System.out.println(\"Case 6\");\n",
    "            } else if (d < 5) {\n",
    "                System.out.println(\"Case 7\");\n",
    "            } else {\n",
    "                switch (b) {\n",
    "                    case 1:\n",
    "                        System.out.println(\"Case 8\");\n",
    "                        break;\n",
    "                    case 2:\n",
    "                        System.out.println(\"Case 9\");\n",
    "                        break;\n",
    "                    case 3:\n",
    "                        System.out.println(\"Case 10\");\n",
    "                        break;\n",
    "                    default:\n",
    "                        System.out.println(\"Default Case\");\n",
    "                }\n",
    "            }\n",
    "        } else {\n",
    "            for (int i = 0; i < c; i++) {\n",
    "                if (i  == 0) {\n",
    "                    System.out.println(\"Equal to zero\");\n",
    "                } else if (i < 0) {\n",
    "                    System.out.println(\"Negative\");\n",
    "                }  else {\n",
    "                    System.out.println(\"Positive\");\n",
    "                }\n",
    "            }\n",
    "        }\n",
    "\n",
    "        try {\n",
    "            int result = a / b;\n",
    "            System.out.println(\"Result: \" + result);\n",
    "        } catch (ArithmeticException e) {\n",
    "            System.out.println(\"Division by zero\");\n",
    "        }\n",
    "    }\n",
    "\n",
    "\"\"\"\n",
    "\n",
    "# Test the model with the provided Java code\n",
    "test_model_with_code(java_code, knc)\n"
   ]
  },
  {
   "cell_type": "code",
   "execution_count": 53,
   "metadata": {},
   "outputs": [],
   "source": [
    "with open('../Pkl File/long_method.pkl', 'wb') as model_file:\n",
    "    pickle.dump(knc, model_file)"
   ]
  }
 ],
 "metadata": {
  "kernelspec": {
   "display_name": "env",
   "language": "python",
   "name": "python3"
  },
  "language_info": {
   "codemirror_mode": {
    "name": "ipython",
    "version": 3
   },
   "file_extension": ".py",
   "mimetype": "text/x-python",
   "name": "python",
   "nbconvert_exporter": "python",
   "pygments_lexer": "ipython3",
   "version": "3.11.4"
  }
 },
 "nbformat": 4,
 "nbformat_minor": 2
}

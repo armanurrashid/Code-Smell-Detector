{
 "cells": [
  {
   "cell_type": "code",
   "execution_count": 1,
   "metadata": {},
   "outputs": [],
   "source": [
    "import numpy as np\n",
    "import pandas as pd\n",
    "import seaborn as sns\n",
    "import matplotlib.pyplot as plt\n",
    "import pickle"
   ]
  },
  {
   "cell_type": "code",
   "execution_count": 6,
   "metadata": {},
   "outputs": [],
   "source": [
    "df = pd.read_csv('../Dataset/Comments.csv')"
   ]
  },
  {
   "cell_type": "code",
   "execution_count": 7,
   "metadata": {},
   "outputs": [
    {
     "data": {
      "text/html": [
       "<div>\n",
       "<style scoped>\n",
       "    .dataframe tbody tr th:only-of-type {\n",
       "        vertical-align: middle;\n",
       "    }\n",
       "\n",
       "    .dataframe tbody tr th {\n",
       "        vertical-align: top;\n",
       "    }\n",
       "\n",
       "    .dataframe thead th {\n",
       "        text-align: right;\n",
       "    }\n",
       "</style>\n",
       "<table border=\"1\" class=\"dataframe\">\n",
       "  <thead>\n",
       "    <tr style=\"text-align: right;\">\n",
       "      <th></th>\n",
       "      <th>Code</th>\n",
       "      <th>Smell</th>\n",
       "    </tr>\n",
       "  </thead>\n",
       "  <tbody>\n",
       "    <tr>\n",
       "      <th>345</th>\n",
       "      <td>public class DigitSummer {\\r\\n    // Class to ...</td>\n",
       "      <td>0</td>\n",
       "    </tr>\n",
       "    <tr>\n",
       "      <th>241</th>\n",
       "      <td>public class ABC {\\r\\n    // Class to demonstr...</td>\n",
       "      <td>0</td>\n",
       "    </tr>\n",
       "    <tr>\n",
       "      <th>309</th>\n",
       "      <td>public class AverageTemperature {\\r\\n    // Cl...</td>\n",
       "      <td>1</td>\n",
       "    </tr>\n",
       "    <tr>\n",
       "      <th>157</th>\n",
       "      <td>public class Smartphone {\\r\\n\\r\\n    // Brand ...</td>\n",
       "      <td>1</td>\n",
       "    </tr>\n",
       "    <tr>\n",
       "      <th>120</th>\n",
       "      <td>// This class calculates the average of three ...</td>\n",
       "      <td>1</td>\n",
       "    </tr>\n",
       "  </tbody>\n",
       "</table>\n",
       "</div>"
      ],
      "text/plain": [
       "                                                  Code  Smell\n",
       "345  public class DigitSummer {\\r\\n    // Class to ...      0\n",
       "241  public class ABC {\\r\\n    // Class to demonstr...      0\n",
       "309  public class AverageTemperature {\\r\\n    // Cl...      1\n",
       "157  public class Smartphone {\\r\\n\\r\\n    // Brand ...      1\n",
       "120  // This class calculates the average of three ...      1"
      ]
     },
     "execution_count": 7,
     "metadata": {},
     "output_type": "execute_result"
    }
   ],
   "source": [
    "df.sample(5)"
   ]
  },
  {
   "cell_type": "code",
   "execution_count": 8,
   "metadata": {},
   "outputs": [],
   "source": [
    "from sklearn.preprocessing import LabelEncoder\n",
    "encoder = LabelEncoder()"
   ]
  },
  {
   "cell_type": "code",
   "execution_count": 9,
   "metadata": {},
   "outputs": [
    {
     "data": {
      "text/plain": [
       "Smell\n",
       "1    316\n",
       "0    194\n",
       "Name: count, dtype: int64"
      ]
     },
     "execution_count": 9,
     "metadata": {},
     "output_type": "execute_result"
    }
   ],
   "source": [
    "df['Smell'] = encoder.fit_transform(df['Smell'])\n",
    "df['Smell'].value_counts()"
   ]
  },
  {
   "cell_type": "code",
   "execution_count": 10,
   "metadata": {},
   "outputs": [
    {
     "data": {
      "image/png": "[encoded data removed]",
      "text/plain": [
       "<Figure size 640x480 with 1 Axes>"
      ]
     },
     "metadata": {},
     "output_type": "display_data"
    }
   ],
   "source": [
    "import matplotlib.pyplot as plt\n",
    "plt.pie(df['Smell'].value_counts(), labels=['0','1'],autopct=\"%0.2f\")\n",
    "plt.show()"
   ]
  },
  {
   "cell_type": "code",
   "execution_count": 11,
   "metadata": {},
   "outputs": [
    {
     "name": "stdout",
     "output_type": "stream",
     "text": [
      "Looking in indexes: https://pypi.org/simple, https://pypi.ngc.nvidia.com\n",
      "Requirement already satisfied: javalang in c:\\users\\user\\desktop\\streamlit\\env\\lib\\site-packages (0.13.0)\n",
      "Requirement already satisfied: six in c:\\users\\user\\desktop\\streamlit\\env\\lib\\site-packages (from javalang) (1.16.0)\n"
     ]
    },
    {
     "name": "stderr",
     "output_type": "stream",
     "text": [
      "\n",
      "[notice] A new release of pip is available: 23.1.2 -> 24.2\n",
      "[notice] To update, run: python.exe -m pip install --upgrade pip\n"
     ]
    }
   ],
   "source": [
    "!pip install javalang\n",
    "import javalang\n",
    "import re"
   ]
  },
  {
   "cell_type": "code",
   "execution_count": 13,
   "metadata": {},
   "outputs": [],
   "source": [
    "def count_comments_percentage(code):\n",
    "    lines = code.splitlines()\n",
    "    single_line_comment = re.compile(r'^\\s*//')\n",
    "    multi_line_comment_start = re.compile(r'^\\s*/\\*')\n",
    "    multi_line_comment_end = re.compile(r'.*\\*/')\n",
    "\n",
    "    in_multi_line_comment = False\n",
    "    loc = 0\n",
    "    comment_lines = 0\n",
    "\n",
    "    for line in lines:\n",
    "        line = line.strip()\n",
    "\n",
    "        if in_multi_line_comment:\n",
    "            loc += 1\n",
    "            comment_lines += 1\n",
    "            if multi_line_comment_end.search(line):\n",
    "                in_multi_line_comment = False\n",
    "            continue\n",
    "\n",
    "        if multi_line_comment_start.match(line):\n",
    "            in_multi_line_comment = True\n",
    "            loc += 1\n",
    "            comment_lines += 1\n",
    "            if multi_line_comment_end.search(line):\n",
    "                in_multi_line_comment = False\n",
    "            continue\n",
    "\n",
    "        if single_line_comment.match(line):\n",
    "            comment_lines += 1\n",
    "\n",
    "        if line:\n",
    "            loc += 1\n",
    "    comment_percentage = round((comment_lines / loc) * 100) if loc > 0 else 0\n",
    "\n",
    "    return comment_percentage\n"
   ]
  },
  {
   "cell_type": "code",
   "execution_count": 14,
   "metadata": {},
   "outputs": [],
   "source": [
    "df['comment'] = df['Code'].apply(count_comments_percentage)"
   ]
  },
  {
   "cell_type": "code",
   "execution_count": 15,
   "metadata": {},
   "outputs": [
    {
     "name": "stdout",
     "output_type": "stream",
     "text": [
      "0      21\n",
      "1       0\n",
      "2      46\n",
      "3       4\n",
      "4      23\n",
      "       ..\n",
      "505    20\n",
      "506    20\n",
      "507    23\n",
      "508    21\n",
      "509    20\n",
      "Name: comment, Length: 510, dtype: int64\n"
     ]
    }
   ],
   "source": [
    "print(df[\"comment\"])"
   ]
  },
  {
   "cell_type": "code",
   "execution_count": 16,
   "metadata": {},
   "outputs": [
    {
     "data": {
      "text/html": [
       "<div>\n",
       "<style scoped>\n",
       "    .dataframe tbody tr th:only-of-type {\n",
       "        vertical-align: middle;\n",
       "    }\n",
       "\n",
       "    .dataframe tbody tr th {\n",
       "        vertical-align: top;\n",
       "    }\n",
       "\n",
       "    .dataframe thead th {\n",
       "        text-align: right;\n",
       "    }\n",
       "</style>\n",
       "<table border=\"1\" class=\"dataframe\">\n",
       "  <thead>\n",
       "    <tr style=\"text-align: right;\">\n",
       "      <th></th>\n",
       "      <th>Code</th>\n",
       "      <th>Smell</th>\n",
       "      <th>comment</th>\n",
       "    </tr>\n",
       "  </thead>\n",
       "  <tbody>\n",
       "    <tr>\n",
       "      <th>0</th>\n",
       "      <td>class Solution {\\r\\n  public List&lt;List&lt;Integer...</td>\n",
       "      <td>1</td>\n",
       "      <td>21</td>\n",
       "    </tr>\n",
       "    <tr>\n",
       "      <th>1</th>\n",
       "      <td>class Solution {\\r\\n    public boolean isHappy...</td>\n",
       "      <td>0</td>\n",
       "      <td>0</td>\n",
       "    </tr>\n",
       "    <tr>\n",
       "      <th>2</th>\n",
       "      <td>public class Vehicle {\\r\\n   /* public void st...</td>\n",
       "      <td>1</td>\n",
       "      <td>46</td>\n",
       "    </tr>\n",
       "    <tr>\n",
       "      <th>3</th>\n",
       "      <td>import java.util.HashSet;\\r\\nimport java.util....</td>\n",
       "      <td>0</td>\n",
       "      <td>4</td>\n",
       "    </tr>\n",
       "    <tr>\n",
       "      <th>4</th>\n",
       "      <td>class Solution {\\r\\n    public String longestC...</td>\n",
       "      <td>1</td>\n",
       "      <td>23</td>\n",
       "    </tr>\n",
       "    <tr>\n",
       "      <th>5</th>\n",
       "      <td>class Solution {\\r\\n    public ListNode mergeT...</td>\n",
       "      <td>1</td>\n",
       "      <td>31</td>\n",
       "    </tr>\n",
       "    <tr>\n",
       "      <th>6</th>\n",
       "      <td>class Solution {\\r\\n    public int strStr(Stri...</td>\n",
       "      <td>1</td>\n",
       "      <td>27</td>\n",
       "    </tr>\n",
       "    <tr>\n",
       "      <th>7</th>\n",
       "      <td>class Solution45 {\\r\\n    public int searchIns...</td>\n",
       "      <td>1</td>\n",
       "      <td>32</td>\n",
       "    </tr>\n",
       "    <tr>\n",
       "      <th>8</th>\n",
       "      <td>class BinarySum{\\r\\n    public String addBinar...</td>\n",
       "      <td>1</td>\n",
       "      <td>30</td>\n",
       "    </tr>\n",
       "    <tr>\n",
       "      <th>9</th>\n",
       "      <td>class SquareRoot{\\r\\n    public int mySqrt(int...</td>\n",
       "      <td>1</td>\n",
       "      <td>31</td>\n",
       "    </tr>\n",
       "    <tr>\n",
       "      <th>10</th>\n",
       "      <td>class Solution {\\r\\n    \\r\\n    public int rom...</td>\n",
       "      <td>0</td>\n",
       "      <td>19</td>\n",
       "    </tr>\n",
       "    <tr>\n",
       "      <th>11</th>\n",
       "      <td>// Definition for a binary tree node.\\r\\nclass...</td>\n",
       "      <td>1</td>\n",
       "      <td>23</td>\n",
       "    </tr>\n",
       "    <tr>\n",
       "      <th>12</th>\n",
       "      <td>// Definition for a binary tree node.\\r\\nclass...</td>\n",
       "      <td>1</td>\n",
       "      <td>22</td>\n",
       "    </tr>\n",
       "    <tr>\n",
       "      <th>13</th>\n",
       "      <td>class Solution {\\r\\n    public int strStr(Stri...</td>\n",
       "      <td>0</td>\n",
       "      <td>16</td>\n",
       "    </tr>\n",
       "    <tr>\n",
       "      <th>14</th>\n",
       "      <td>// Definition for a binary tree node.\\r\\nclass...</td>\n",
       "      <td>1</td>\n",
       "      <td>21</td>\n",
       "    </tr>\n",
       "    <tr>\n",
       "      <th>15</th>\n",
       "      <td>class ColumnTitle{\\r\\n    public int titleToNu...</td>\n",
       "      <td>1</td>\n",
       "      <td>35</td>\n",
       "    </tr>\n",
       "    <tr>\n",
       "      <th>16</th>\n",
       "      <td>class Solution {\\r\\n    public int searchInser...</td>\n",
       "      <td>0</td>\n",
       "      <td>10</td>\n",
       "    </tr>\n",
       "    <tr>\n",
       "      <th>17</th>\n",
       "      <td>class Solution {\\r\\n    public int countVowelS...</td>\n",
       "      <td>1</td>\n",
       "      <td>32</td>\n",
       "    </tr>\n",
       "    <tr>\n",
       "      <th>18</th>\n",
       "      <td>// Definition for a binary tree node.\\r\\nclass...</td>\n",
       "      <td>1</td>\n",
       "      <td>21</td>\n",
       "    </tr>\n",
       "    <tr>\n",
       "      <th>19</th>\n",
       "      <td>class Solution {\\r\\n    public int lengthOfLas...</td>\n",
       "      <td>0</td>\n",
       "      <td>13</td>\n",
       "    </tr>\n",
       "    <tr>\n",
       "      <th>20</th>\n",
       "      <td>// Definition for singly-linked list.\\r\\nclass...</td>\n",
       "      <td>1</td>\n",
       "      <td>25</td>\n",
       "    </tr>\n",
       "    <tr>\n",
       "      <th>21</th>\n",
       "      <td>import java.util.HashMap;\\r\\nimport java.util....</td>\n",
       "      <td>1</td>\n",
       "      <td>23</td>\n",
       "    </tr>\n",
       "    <tr>\n",
       "      <th>22</th>\n",
       "      <td>import java.util.HashMap;\\r\\n\\r\\nclass Solutio...</td>\n",
       "      <td>0</td>\n",
       "      <td>0</td>\n",
       "    </tr>\n",
       "    <tr>\n",
       "      <th>23</th>\n",
       "      <td>import java.util.HashSet;\\r\\n\\r\\nclass Solutio...</td>\n",
       "      <td>0</td>\n",
       "      <td>8</td>\n",
       "    </tr>\n",
       "    <tr>\n",
       "      <th>24</th>\n",
       "      <td>import java.util.*;\\r\\n\\r\\n// Definition for a...</td>\n",
       "      <td>1</td>\n",
       "      <td>21</td>\n",
       "    </tr>\n",
       "    <tr>\n",
       "      <th>25</th>\n",
       "      <td>import java.util.*;\\r\\n\\r\\nclass Solution {\\r\\...</td>\n",
       "      <td>1</td>\n",
       "      <td>23</td>\n",
       "    </tr>\n",
       "    <tr>\n",
       "      <th>26</th>\n",
       "      <td>class Solution {\\r\\n    public boolean contain...</td>\n",
       "      <td>0</td>\n",
       "      <td>20</td>\n",
       "    </tr>\n",
       "    <tr>\n",
       "      <th>27</th>\n",
       "      <td>class Solution {\\r\\n    public ListNode revers...</td>\n",
       "      <td>0</td>\n",
       "      <td>18</td>\n",
       "    </tr>\n",
       "    <tr>\n",
       "      <th>28</th>\n",
       "      <td>class Solution {\\r\\n    public ListNode revers...</td>\n",
       "      <td>0</td>\n",
       "      <td>11</td>\n",
       "    </tr>\n",
       "    <tr>\n",
       "      <th>29</th>\n",
       "      <td>class Solution {\\r\\n    public boolean isPalin...</td>\n",
       "      <td>1</td>\n",
       "      <td>24</td>\n",
       "    </tr>\n",
       "  </tbody>\n",
       "</table>\n",
       "</div>"
      ],
      "text/plain": [
       "                                                 Code  Smell  comment\n",
       "0   class Solution {\\r\\n  public List<List<Integer...      1       21\n",
       "1   class Solution {\\r\\n    public boolean isHappy...      0        0\n",
       "2   public class Vehicle {\\r\\n   /* public void st...      1       46\n",
       "3   import java.util.HashSet;\\r\\nimport java.util....      0        4\n",
       "4   class Solution {\\r\\n    public String longestC...      1       23\n",
       "5   class Solution {\\r\\n    public ListNode mergeT...      1       31\n",
       "6   class Solution {\\r\\n    public int strStr(Stri...      1       27\n",
       "7   class Solution45 {\\r\\n    public int searchIns...      1       32\n",
       "8   class BinarySum{\\r\\n    public String addBinar...      1       30\n",
       "9   class SquareRoot{\\r\\n    public int mySqrt(int...      1       31\n",
       "10  class Solution {\\r\\n    \\r\\n    public int rom...      0       19\n",
       "11  // Definition for a binary tree node.\\r\\nclass...      1       23\n",
       "12  // Definition for a binary tree node.\\r\\nclass...      1       22\n",
       "13  class Solution {\\r\\n    public int strStr(Stri...      0       16\n",
       "14  // Definition for a binary tree node.\\r\\nclass...      1       21\n",
       "15  class ColumnTitle{\\r\\n    public int titleToNu...      1       35\n",
       "16  class Solution {\\r\\n    public int searchInser...      0       10\n",
       "17  class Solution {\\r\\n    public int countVowelS...      1       32\n",
       "18  // Definition for a binary tree node.\\r\\nclass...      1       21\n",
       "19  class Solution {\\r\\n    public int lengthOfLas...      0       13\n",
       "20  // Definition for singly-linked list.\\r\\nclass...      1       25\n",
       "21  import java.util.HashMap;\\r\\nimport java.util....      1       23\n",
       "22  import java.util.HashMap;\\r\\n\\r\\nclass Solutio...      0        0\n",
       "23  import java.util.HashSet;\\r\\n\\r\\nclass Solutio...      0        8\n",
       "24  import java.util.*;\\r\\n\\r\\n// Definition for a...      1       21\n",
       "25  import java.util.*;\\r\\n\\r\\nclass Solution {\\r\\...      1       23\n",
       "26  class Solution {\\r\\n    public boolean contain...      0       20\n",
       "27  class Solution {\\r\\n    public ListNode revers...      0       18\n",
       "28  class Solution {\\r\\n    public ListNode revers...      0       11\n",
       "29  class Solution {\\r\\n    public boolean isPalin...      1       24"
      ]
     },
     "execution_count": 16,
     "metadata": {},
     "output_type": "execute_result"
    }
   ],
   "source": [
    "df.head(30)"
   ]
  },
  {
   "cell_type": "code",
   "execution_count": 20,
   "metadata": {},
   "outputs": [],
   "source": [
    "X = df['comment'].values.reshape(-1, 1)\n",
    "y = df['Smell'].values"
   ]
  },
  {
   "cell_type": "code",
   "execution_count": 21,
   "metadata": {},
   "outputs": [],
   "source": [
    "from sklearn.model_selection import train_test_split\n",
    "X_train,X_test,y_train,y_test = train_test_split(X,y,test_size=0.2,random_state=2)"
   ]
  },
  {
   "cell_type": "code",
   "execution_count": 22,
   "metadata": {},
   "outputs": [],
   "source": [
    "from sklearn.neighbors import KNeighborsClassifier\n",
    "from sklearn.metrics import accuracy_score,confusion_matrix,precision_score"
   ]
  },
  {
   "cell_type": "code",
   "execution_count": 23,
   "metadata": {},
   "outputs": [],
   "source": [
    "knc = KNeighborsClassifier()\n",
    "knc.fit(X_train,y_train)\n",
    "y_pred1 = knc.predict(X_test)"
   ]
  },
  {
   "cell_type": "code",
   "execution_count": 24,
   "metadata": {},
   "outputs": [
    {
     "name": "stdout",
     "output_type": "stream",
     "text": [
      "[1 0 1 1 0 1 1 1 1 0 1 1 1 1 0 0 1 0 1 0 1 0 0 0 1 1 1 0 0 0 1 1 1 0 0 0 1\n",
      " 0 1 1 0 1 0 1 0 1 1 1 1 0 1 0 0 1 1 0 1 1 1 1 1 0 1 0 1 0 1 1 1 0 1 0 0 1\n",
      " 1 1 0 1 0 0 1 0 1 1 0 1 1 0 1 0 0 1 0 1 1 0 1 1 1 1 1 1]\n",
      "0.9901960784313726\n",
      "[[39  0]\n",
      " [ 1 62]]\n",
      "1.0\n"
     ]
    }
   ],
   "source": [
    "print(y_pred1)\n",
    "print(accuracy_score(y_test,y_pred1))\n",
    "print(confusion_matrix(y_test,y_pred1))\n",
    "print(precision_score(y_test,y_pred1))"
   ]
  },
  {
   "cell_type": "code",
   "execution_count": 25,
   "metadata": {},
   "outputs": [
    {
     "name": "stdout",
     "output_type": "stream",
     "text": [
      "Comment Percentage: 17\n"
     ]
    }
   ],
   "source": [
    "code_sample = \"\"\"\n",
    "public class LargestElement {\n",
    "    public static int findLargest(int[] array) {\n",
    "        int largest = array[0];\n",
    "\n",
    "        // Traverse the array to find the actual largest element\n",
    "        for (int i = 1; i < array.length; i++) {\n",
    "            if (array[i] > largest) {\n",
    "                largest = array[i]; // Update largest if a larger element is found\n",
    "            }\n",
    "        }\n",
    "\n",
    "        // Return the largest element found\n",
    "        return largest;\n",
    "    }\n",
    "\n",
    "    public static void main(String[] args) {\n",
    "        int[] numbers = {10, 20, 30, 40, 50}; // Array to search within\n",
    "\n",
    "        // Find and print the largest element\n",
    "        System.out.println(\"Largest element: \" + findLargest(numbers));\n",
    "    }\n",
    "}\n",
    "\"\"\"\n",
    "comment_percent = count_comments_percentage(code_sample)\n",
    "print(f\"Comment Percentage: {comment_percent}\")"
   ]
  },
  {
   "cell_type": "code",
   "execution_count": 26,
   "metadata": {},
   "outputs": [],
   "source": [
    "with open('../Pkl File/comments.pkl', 'wb') as model_file:\n",
    "    pickle.dump(knc, model_file)"
   ]
  }
 ],
 "metadata": {
  "kernelspec": {
   "display_name": "env",
   "language": "python",
   "name": "python3"
  },
  "language_info": {
   "codemirror_mode": {
    "name": "ipython",
    "version": 3
   },
   "file_extension": ".py",
   "mimetype": "text/x-python",
   "name": "python",
   "nbconvert_exporter": "python",
   "pygments_lexer": "ipython3",
   "version": "3.11.4"
  }
 },
 "nbformat": 4,
 "nbformat_minor": 2
}

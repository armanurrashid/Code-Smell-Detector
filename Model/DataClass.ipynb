{
 "cells": [
  {
   "cell_type": "code",
   "execution_count": 1,
   "metadata": {},
   "outputs": [],
   "source": [
    "import pandas as pd\n",
    "import pickle"
   ]
  },
  {
   "cell_type": "code",
   "execution_count": 2,
   "metadata": {},
   "outputs": [],
   "source": [
    "df = pd.read_csv('../Dataset/DataClass.csv')"
   ]
  },
  {
   "cell_type": "code",
   "execution_count": 3,
   "metadata": {},
   "outputs": [
    {
     "data": {
      "text/html": [
       "<div>\n",
       "<style scoped>\n",
       "    .dataframe tbody tr th:only-of-type {\n",
       "        vertical-align: middle;\n",
       "    }\n",
       "\n",
       "    .dataframe tbody tr th {\n",
       "        vertical-align: top;\n",
       "    }\n",
       "\n",
       "    .dataframe thead th {\n",
       "        text-align: right;\n",
       "    }\n",
       "</style>\n",
       "<table border=\"1\" class=\"dataframe\">\n",
       "  <thead>\n",
       "    <tr style=\"text-align: right;\">\n",
       "      <th></th>\n",
       "      <th>Code</th>\n",
       "      <th>Smell</th>\n",
       "    </tr>\n",
       "  </thead>\n",
       "  <tbody>\n",
       "    <tr>\n",
       "      <th>833</th>\n",
       "      <td>public class Grade {\\r\\n    private int gradeI...</td>\n",
       "      <td>0</td>\n",
       "    </tr>\n",
       "    <tr>\n",
       "      <th>130</th>\n",
       "      <td>public class User {\\r\\n    private String user...</td>\n",
       "      <td>0</td>\n",
       "    </tr>\n",
       "    <tr>\n",
       "      <th>1000</th>\n",
       "      <td>public class Ticket {\\n    private int ticketI...</td>\n",
       "      <td>1</td>\n",
       "    </tr>\n",
       "    <tr>\n",
       "      <th>588</th>\n",
       "      <td>public class Book {\\n    private int bookId;\\n...</td>\n",
       "      <td>1</td>\n",
       "    </tr>\n",
       "    <tr>\n",
       "      <th>547</th>\n",
       "      <td>public class Promotion {\\r\\n    private int pr...</td>\n",
       "      <td>0</td>\n",
       "    </tr>\n",
       "  </tbody>\n",
       "</table>\n",
       "</div>"
      ],
      "text/plain": [
       "                                                   Code  Smell\n",
       "833   public class Grade {\\r\\n    private int gradeI...      0\n",
       "130   public class User {\\r\\n    private String user...      0\n",
       "1000  public class Ticket {\\n    private int ticketI...      1\n",
       "588   public class Book {\\n    private int bookId;\\n...      1\n",
       "547   public class Promotion {\\r\\n    private int pr...      0"
      ]
     },
     "execution_count": 3,
     "metadata": {},
     "output_type": "execute_result"
    }
   ],
   "source": [
    "df.sample(5)"
   ]
  },
  {
   "cell_type": "code",
   "execution_count": 4,
   "metadata": {},
   "outputs": [],
   "source": [
    "from sklearn.preprocessing import LabelEncoder\n",
    "encoder = LabelEncoder()\n"
   ]
  },
  {
   "cell_type": "code",
   "execution_count": 5,
   "metadata": {},
   "outputs": [
    {
     "data": {
      "text/html": [
       "<div>\n",
       "<style scoped>\n",
       "    .dataframe tbody tr th:only-of-type {\n",
       "        vertical-align: middle;\n",
       "    }\n",
       "\n",
       "    .dataframe tbody tr th {\n",
       "        vertical-align: top;\n",
       "    }\n",
       "\n",
       "    .dataframe thead th {\n",
       "        text-align: right;\n",
       "    }\n",
       "</style>\n",
       "<table border=\"1\" class=\"dataframe\">\n",
       "  <thead>\n",
       "    <tr style=\"text-align: right;\">\n",
       "      <th></th>\n",
       "      <th>Code</th>\n",
       "      <th>Smell</th>\n",
       "    </tr>\n",
       "  </thead>\n",
       "  <tbody>\n",
       "    <tr>\n",
       "      <th>0</th>\n",
       "      <td>public class Person {\\n    private String name...</td>\n",
       "      <td>1</td>\n",
       "    </tr>\n",
       "    <tr>\n",
       "      <th>1</th>\n",
       "      <td>public class Person {\\r\\n    private String na...</td>\n",
       "      <td>0</td>\n",
       "    </tr>\n",
       "    <tr>\n",
       "      <th>2</th>\n",
       "      <td>public class Person {\\n    private String name...</td>\n",
       "      <td>1</td>\n",
       "    </tr>\n",
       "    <tr>\n",
       "      <th>3</th>\n",
       "      <td>public class Person {\\r\\n    private String na...</td>\n",
       "      <td>0</td>\n",
       "    </tr>\n",
       "    <tr>\n",
       "      <th>4</th>\n",
       "      <td>public class Address {\\n    private String str...</td>\n",
       "      <td>1</td>\n",
       "    </tr>\n",
       "  </tbody>\n",
       "</table>\n",
       "</div>"
      ],
      "text/plain": [
       "                                                Code  Smell\n",
       "0  public class Person {\\n    private String name...      1\n",
       "1  public class Person {\\r\\n    private String na...      0\n",
       "2  public class Person {\\n    private String name...      1\n",
       "3  public class Person {\\r\\n    private String na...      0\n",
       "4  public class Address {\\n    private String str...      1"
      ]
     },
     "execution_count": 5,
     "metadata": {},
     "output_type": "execute_result"
    }
   ],
   "source": [
    "df['Smell'] = encoder.fit_transform(df['Smell'])\n",
    "df.head()"
   ]
  },
  {
   "cell_type": "code",
   "execution_count": 6,
   "metadata": {},
   "outputs": [
    {
     "data": {
      "text/plain": [
       "Smell\n",
       "0    524\n",
       "1    522\n",
       "Name: count, dtype: int64"
      ]
     },
     "execution_count": 6,
     "metadata": {},
     "output_type": "execute_result"
    }
   ],
   "source": [
    "df['Smell'].value_counts()"
   ]
  },
  {
   "cell_type": "code",
   "execution_count": 7,
   "metadata": {},
   "outputs": [
    {
     "name": "stdout",
     "output_type": "stream",
     "text": [
      "Looking in indexes: https://pypi.org/simple, https://pypi.ngc.nvidia.com\n",
      "Requirement already satisfied: javalang in c:\\users\\user\\desktop\\streamlit\\env\\lib\\site-packages (0.13.0)\n",
      "Requirement already satisfied: six in c:\\users\\user\\desktop\\streamlit\\env\\lib\\site-packages (from javalang) (1.16.0)\n"
     ]
    },
    {
     "name": "stderr",
     "output_type": "stream",
     "text": [
      "\n",
      "[notice] A new release of pip is available: 23.1.2 -> 24.2\n",
      "[notice] To update, run: python.exe -m pip install --upgrade pip\n"
     ]
    }
   ],
   "source": [
    "!pip install javalang"
   ]
  },
  {
   "cell_type": "code",
   "execution_count": 8,
   "metadata": {},
   "outputs": [],
   "source": [
    "import javalang\n",
    "def parse_code_to_ast(code):\n",
    "    try:\n",
    "        return javalang.parse.parse_member_signature(code)\n",
    "    except (javalang.parser.JavaSyntaxError, javalang.tokenizer.LexerError):\n",
    "        return None"
   ]
  },
  {
   "cell_type": "code",
   "execution_count": 9,
   "metadata": {},
   "outputs": [],
   "source": [
    "def is_getter_or_setter(method_node):\n",
    "    method_name = method_node.name\n",
    "    return (method_name.startswith('get') or\n",
    "            method_name.startswith('set') or\n",
    "            method_name.startswith('is')) and len(method_node.parameters) <= 1"
   ]
  },
  {
   "cell_type": "code",
   "execution_count": 10,
   "metadata": {},
   "outputs": [],
   "source": [
    "def is_data_class(class_node):\n",
    "    method_count = 0\n",
    "    getter_setter_count = 0\n",
    "\n",
    "    for member in class_node.body:\n",
    "        if isinstance(member, javalang.tree.MethodDeclaration):\n",
    "            method_count += 1\n",
    "            if is_getter_or_setter(member):\n",
    "                getter_setter_count += 1\n",
    "\n",
    "    return method_count, getter_setter_count\n"
   ]
  },
  {
   "cell_type": "code",
   "execution_count": 11,
   "metadata": {},
   "outputs": [],
   "source": [
    "def find_data_classes(code):\n",
    "    tree = parse_code_to_ast(code)\n",
    "    if tree is None:\n",
    "        return 0, 0\n",
    "\n",
    "    for path, node in tree.filter(javalang.tree.ClassDeclaration):\n",
    "        method_count, getter_setter_count = is_data_class(node)\n",
    "\n",
    "    return method_count, getter_setter_count"
   ]
  },
  {
   "cell_type": "code",
   "execution_count": 12,
   "metadata": {},
   "outputs": [],
   "source": [
    "df['method'], df['getSet'] = zip(*df['Code'].apply(find_data_classes))"
   ]
  },
  {
   "cell_type": "code",
   "execution_count": 13,
   "metadata": {},
   "outputs": [
    {
     "name": "stdout",
     "output_type": "stream",
     "text": [
      "0       4\n",
      "1       5\n",
      "2       4\n",
      "3       5\n",
      "4       8\n",
      "       ..\n",
      "1041    7\n",
      "1042    6\n",
      "1043    7\n",
      "1044    6\n",
      "1045    7\n",
      "Name: method, Length: 1046, dtype: int64 0       4\n",
      "1       4\n",
      "2       4\n",
      "3       4\n",
      "4       8\n",
      "       ..\n",
      "1041    6\n",
      "1042    6\n",
      "1043    6\n",
      "1044    6\n",
      "1045    6\n",
      "Name: getSet, Length: 1046, dtype: int64\n"
     ]
    }
   ],
   "source": [
    "print(df[\"method\"],df[\"getSet\"])"
   ]
  },
  {
   "cell_type": "code",
   "execution_count": 14,
   "metadata": {},
   "outputs": [
    {
     "data": {
      "text/html": [
       "<div>\n",
       "<style scoped>\n",
       "    .dataframe tbody tr th:only-of-type {\n",
       "        vertical-align: middle;\n",
       "    }\n",
       "\n",
       "    .dataframe tbody tr th {\n",
       "        vertical-align: top;\n",
       "    }\n",
       "\n",
       "    .dataframe thead th {\n",
       "        text-align: right;\n",
       "    }\n",
       "</style>\n",
       "<table border=\"1\" class=\"dataframe\">\n",
       "  <thead>\n",
       "    <tr style=\"text-align: right;\">\n",
       "      <th></th>\n",
       "      <th>Code</th>\n",
       "      <th>Smell</th>\n",
       "      <th>method</th>\n",
       "      <th>getSet</th>\n",
       "    </tr>\n",
       "  </thead>\n",
       "  <tbody>\n",
       "    <tr>\n",
       "      <th>0</th>\n",
       "      <td>public class Person {\\n    private String name...</td>\n",
       "      <td>1</td>\n",
       "      <td>4</td>\n",
       "      <td>4</td>\n",
       "    </tr>\n",
       "    <tr>\n",
       "      <th>1</th>\n",
       "      <td>public class Person {\\r\\n    private String na...</td>\n",
       "      <td>0</td>\n",
       "      <td>5</td>\n",
       "      <td>4</td>\n",
       "    </tr>\n",
       "    <tr>\n",
       "      <th>2</th>\n",
       "      <td>public class Person {\\n    private String name...</td>\n",
       "      <td>1</td>\n",
       "      <td>4</td>\n",
       "      <td>4</td>\n",
       "    </tr>\n",
       "    <tr>\n",
       "      <th>3</th>\n",
       "      <td>public class Person {\\r\\n    private String na...</td>\n",
       "      <td>0</td>\n",
       "      <td>5</td>\n",
       "      <td>4</td>\n",
       "    </tr>\n",
       "    <tr>\n",
       "      <th>4</th>\n",
       "      <td>public class Address {\\n    private String str...</td>\n",
       "      <td>1</td>\n",
       "      <td>8</td>\n",
       "      <td>8</td>\n",
       "    </tr>\n",
       "    <tr>\n",
       "      <th>5</th>\n",
       "      <td>public class Address {\\r\\n    private String s...</td>\n",
       "      <td>0</td>\n",
       "      <td>9</td>\n",
       "      <td>8</td>\n",
       "    </tr>\n",
       "    <tr>\n",
       "      <th>6</th>\n",
       "      <td>public class Order {\\n    private String order...</td>\n",
       "      <td>1</td>\n",
       "      <td>12</td>\n",
       "      <td>12</td>\n",
       "    </tr>\n",
       "    <tr>\n",
       "      <th>7</th>\n",
       "      <td>public class Order {\\r\\n    private String ord...</td>\n",
       "      <td>0</td>\n",
       "      <td>13</td>\n",
       "      <td>12</td>\n",
       "    </tr>\n",
       "    <tr>\n",
       "      <th>8</th>\n",
       "      <td>public class Rectangle {\\n    private double w...</td>\n",
       "      <td>0</td>\n",
       "      <td>5</td>\n",
       "      <td>4</td>\n",
       "    </tr>\n",
       "    <tr>\n",
       "      <th>9</th>\n",
       "      <td>public class Rectangle {\\r\\n    private double...</td>\n",
       "      <td>0</td>\n",
       "      <td>6</td>\n",
       "      <td>4</td>\n",
       "    </tr>\n",
       "  </tbody>\n",
       "</table>\n",
       "</div>"
      ],
      "text/plain": [
       "                                                Code  Smell  method  getSet\n",
       "0  public class Person {\\n    private String name...      1       4       4\n",
       "1  public class Person {\\r\\n    private String na...      0       5       4\n",
       "2  public class Person {\\n    private String name...      1       4       4\n",
       "3  public class Person {\\r\\n    private String na...      0       5       4\n",
       "4  public class Address {\\n    private String str...      1       8       8\n",
       "5  public class Address {\\r\\n    private String s...      0       9       8\n",
       "6  public class Order {\\n    private String order...      1      12      12\n",
       "7  public class Order {\\r\\n    private String ord...      0      13      12\n",
       "8  public class Rectangle {\\n    private double w...      0       5       4\n",
       "9  public class Rectangle {\\r\\n    private double...      0       6       4"
      ]
     },
     "execution_count": 14,
     "metadata": {},
     "output_type": "execute_result"
    }
   ],
   "source": [
    "df.head(10)"
   ]
  },
  {
   "cell_type": "code",
   "execution_count": 15,
   "metadata": {},
   "outputs": [],
   "source": [
    "X = df[[\"method\", \"getSet\"]]\n",
    "y = df['Smell'].values"
   ]
  },
  {
   "cell_type": "code",
   "execution_count": 19,
   "metadata": {},
   "outputs": [],
   "source": [
    "from sklearn.model_selection import train_test_split\n",
    "X_train,X_test,y_train,y_test = train_test_split(X,y,test_size=0.2,random_state=2)"
   ]
  },
  {
   "cell_type": "code",
   "execution_count": 20,
   "metadata": {},
   "outputs": [
    {
     "name": "stdout",
     "output_type": "stream",
     "text": [
      "[0 0 1 1 0 0 0 0 0 1 1 1 1 1 0 1 1 1 1 1 1 1 0 0 1 1 1 0 1 0 0 1 1 0 1 0 1\n",
      " 1 0 0 0 0 1 0 0 0 0 1 1 1 0 0 0 1 1 0 1 0 1 0 0 0 0 0 0 1 0 0 0 1 1 1 1 0\n",
      " 0 1 0 1 0 1 1 0 1 1 1 1 0 1 1 0 1 0 1 0 0 0 0 1 1 0 1 0 0 1 0 0 0 0 1 1 1\n",
      " 0 1 1 1 1 1 0 1 0 0 1 1 1 0 1 0 0 0 0 0 1 0 1 1 1 1 0 1 0 0 0 1 1 0 0 1 1\n",
      " 0 1 0 1 1 1 1 1 0 0 0 0 1 1 0 0 0 1 0 1 1 0 1 1 1 0 0 1 0 1 1 1 1 0 0 1 1\n",
      " 0 1 0 0 0 1 0 0 0 1 1 0 0 0 1 1 0 0 1 1 0 1 0 0 0]\n",
      "0.9904761904761905\n",
      "[[105   2]\n",
      " [  0 103]]\n",
      "0.9809523809523809\n"
     ]
    }
   ],
   "source": [
    "from sklearn.naive_bayes import MultinomialNB\n",
    "from sklearn.metrics import accuracy_score,confusion_matrix,precision_score\n",
    "mnb = MultinomialNB()\n",
    "mnb.fit(X_train,y_train)\n",
    "y_pred1 = mnb.predict(X_test)\n",
    "print(y_pred1)\n",
    "print(accuracy_score(y_test,y_pred1))\n",
    "print(confusion_matrix(y_test,y_pred1))\n",
    "print(precision_score(y_test,y_pred1))"
   ]
  },
  {
   "cell_type": "code",
   "execution_count": 21,
   "metadata": {},
   "outputs": [
    {
     "name": "stdout",
     "output_type": "stream",
     "text": [
      "Data Classes found: (3, 2)\n"
     ]
    }
   ],
   "source": [
    "java_code = \"\"\"\n",
    "public class ServerConfig {\n",
    "    private int port = 8080;\n",
    "    public int getPort() {\n",
    "        return port;\n",
    "    }\n",
    "    public void setPort(int port) {\n",
    "        this.port = port;\n",
    "    }\n",
    "     public void printNotDataClass() {\n",
    "        System.out.println(\"This is not a data class.\");\n",
    "    }\n",
    "}\n",
    "\"\"\"\n",
    "data_classes = find_data_classes(java_code)\n",
    "print(\"Data Classes found:\", data_classes)"
   ]
  },
  {
   "cell_type": "code",
   "execution_count": 22,
   "metadata": {},
   "outputs": [],
   "source": [
    "with open('../Pkl File/data_class.pkl', 'wb') as model_file:\n",
    "    pickle.dump(mnb, model_file)"
   ]
  }
 ],
 "metadata": {
  "kernelspec": {
   "display_name": "env",
   "language": "python",
   "name": "python3"
  },
  "language_info": {
   "codemirror_mode": {
    "name": "ipython",
    "version": 3
   },
   "file_extension": ".py",
   "mimetype": "text/x-python",
   "name": "python",
   "nbconvert_exporter": "python",
   "pygments_lexer": "ipython3",
   "version": "3.11.4"
  }
 },
 "nbformat": 4,
 "nbformat_minor": 2
}
